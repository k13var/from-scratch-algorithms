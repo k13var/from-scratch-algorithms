{
 "cells": [
  {
   "cell_type": "code",
   "execution_count": null,
   "metadata": {},
   "outputs": [],
   "source": [
    "import numpy as np\n",
    "from sklearn.utils.validation import check_is_fitted\n",
    "\n",
    "class StandardScaler(object):\n",
    "    def __init__(self):\n",
    "        pass\n",
    "\n",
    "    def fit(self, X, y=None):\n",
    "        self.mean_ = np.mean(X, axis=0) # dataset mean\n",
    "        self.std_ = np.std(X, axis=0) # dataset standard deviation\n",
    "        self.get_params_ = {'mean': self.mean_, 'standard_deviation': self.std_}\n",
    "        return self\n",
    "\n",
    "    def transform(self, X, y=None):\n",
    "        # check for fitness before applying 'transform' method\n",
    "        check_is_fitted(self, 'mean_', 'std_')\n",
    "        # standardize features by removing the mean and scaling to unit variance\n",
    "        return (X - self.mean_) / self.std_ \n",
    "\n",
    "    def fit_transform(self, X):\n",
    "        return self.fit(X).transform(X)"
   ]
  }
 ],
 "metadata": {
  "kernelspec": {
   "display_name": "Python 3",
   "language": "python",
   "name": "python3"
  },
  "language_info": {
   "codemirror_mode": {
    "name": "ipython",
    "version": 3
   },
   "file_extension": ".py",
   "mimetype": "text/x-python",
   "name": "python",
   "nbconvert_exporter": "python",
   "pygments_lexer": "ipython3",
   "version": "3.7.6"
  }
 },
 "nbformat": 4,
 "nbformat_minor": 4
}
