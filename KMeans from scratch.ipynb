{
 "cells": [
  {
   "cell_type": "code",
   "execution_count": 71,
   "metadata": {},
   "outputs": [],
   "source": [
    "import numpy as np\n",
    "import matplotlib.pyplot as plt\n",
    "import seaborn as sns\n",
    "import random\n",
    "\n",
    "class KMeans:\n",
    "    \n",
    "    def __init__(self, n_clusters=2, tol=0.001, max_iter=500):\n",
    "        self.n_clusters = n_clusters\n",
    "        self.tol = tol\n",
    "        self.max_iter = max_iter\n",
    "        self.data = None\n",
    " \n",
    "    def fit(self,data):\n",
    "#         data = data.to_numpy() # uncomment to transform the data to NumPy array if the input is a DataFrame\n",
    "        self.data = data\n",
    "    \n",
    "        x_min = self.data[:,0].min() \n",
    "        x_max = self.data[:,0].max() \n",
    "        y_min = self.data[:,1].min() \n",
    "        y_max = self.data[:,1].max() \n",
    "        \n",
    "        random_centroids = [] \n",
    "\n",
    "        for i in range(self.n_clusters):\n",
    "            # initialise the centroids to a random point in the input data range\n",
    "            random_centroids.append([random.uniform(x_min, x_max),random.uniform(y_min, y_max)])\n",
    "            self.centroids = np.array(random_centroids)\n",
    "\n",
    "        for iteration in range(self.max_iter):\n",
    "            self.labels = np.array([])\n",
    "\n",
    "            for row in self.data:    \n",
    "                # calculate the Euclidian distance between every centroid a data point\n",
    "                distances = [np.linalg.norm(row-self.centroids[centroid]) for centroid in range(self.n_clusters)]\n",
    "                # identify for which centroid this distance is minimal\n",
    "                cluster_id = distances.index(min(distances))\n",
    "                # assign the respective centroid label to the data point\n",
    "                self.labels = np.append(self.labels,[cluster_id])\n",
    "\n",
    "            # save the centroid position coordinates\n",
    "            prev_centroids = np.copy(self.centroids)\n",
    "            \n",
    "#                ### Uncomment to plot algorithm convergence at each iteration\n",
    "#             sns.scatterplot(x=self.data[:,0], y=self.data[:,1], hue=self.labels, legend=False, size=5, palette='tab20')\n",
    "#             plt.scatter(self.centroids[:, 0], self.centroids[:, 1], marker='o', s=30, linewidths=8, color='k', zorder=10, alpha=0.9)\n",
    "#             plt.scatter(self.centroids[:, 0], self.centroids[:, 1], marker='x', s=50, linewidths=50, color='w', zorder=11, alpha=1)\n",
    "#             plt.show()    \n",
    "#                ### \n",
    "\n",
    "            for i in range(self.n_clusters):\n",
    "                # update centroids to mean values of cluster data points\n",
    "                self.centroids[i] = np.average(self.data[self.labels == i],axis=0)\n",
    "                  \n",
    "            stop_update = False\n",
    "        \n",
    "            for c in range(self.n_clusters):\n",
    "                # compare centroid 'movement' and interrupt the algorithm if the centroids converged\n",
    "                if abs(round(np.sum(self.centroids[c]-prev_centroids[c]),3)) < self.tol:\n",
    "                    stop_update = True\n",
    "                    break\n",
    "            \n",
    "            if stop_update:\n",
    "                print(f'The algorithm converged after {iteration} iterations.')\n",
    "                break\n",
    "\n",
    "    def predict(self,data_list):\n",
    "        # check the Euclidian distance between the input data point and each centroid\n",
    "        distances = [np.linalg.norm(data_list-self.centroids[centroid]) for centroid in range(self.n_clusters)]\n",
    "        # predict cluster \n",
    "        cluster = distances.index(min(distances))\n",
    "        return cluster\n",
    "    \n",
    "    def inertia(self):\n",
    "        inertia = 0\n",
    "        # calculate the sum of squared distances of samples to their closest cluster center\n",
    "        for cluster in range(self.n_clusters):\n",
    "            for feature in self.data[self.labels == cluster]:\n",
    "                inertia += np.linalg.norm(feature-self.centroids[cluster])\n",
    "        return inertia\n",
    "    \n",
    "    def plot_graph(self):   \n",
    "        sns.scatterplot(x=self.data[:,0], y=self.data[:,1], hue=self.labels, legend=False, size=5, palette='tab20')\n",
    "        plt.scatter(self.centroids[:, 0], self.centroids[:, 1], marker='o', s=30, linewidths=8, color='k', zorder=10, alpha=0.9)\n",
    "        plt.scatter(self.centroids[:, 0], self.centroids[:, 1], marker='x', s=50, linewidths=50, color='w', zorder=11, alpha=1)\n",
    "        plt.show()   "
   ]
  },
  {
   "cell_type": "markdown",
   "metadata": {},
   "source": [
    "Now, we can test the class on generated isotropic Gaussian blobs for clustering with `make_blobs`"
   ]
  },
  {
   "cell_type": "code",
   "execution_count": 5,
   "metadata": {},
   "outputs": [],
   "source": [
    "from sklearn.datasets import make_blobs\n",
    "\n",
    "X_blob, y_blob = make_blobs(n_samples=100, centers=2, random_state=3)"
   ]
  },
  {
   "cell_type": "code",
   "execution_count": 6,
   "metadata": {},
   "outputs": [
    {
     "data": {
      "image/png": "[encoded data removed]",
      "text/plain": [
       "<Figure size 432x288 with 1 Axes>"
      ]
     },
     "metadata": {
      "needs_background": "light"
     },
     "output_type": "display_data"
    }
   ],
   "source": [
    "sns.scatterplot(x=X_blob[:,0], y=X_blob[:,1], hue=y_blob, size=5, legend=False, palette='tab20')\n",
    "plt.show()"
   ]
  },
  {
   "cell_type": "markdown",
   "metadata": {},
   "source": [
    "Fit the class on the dataset "
   ]
  },
  {
   "cell_type": "code",
   "execution_count": 66,
   "metadata": {},
   "outputs": [
    {
     "name": "stdout",
     "output_type": "stream",
     "text": [
      "The algorithm converged after 2 iterations.\n"
     ]
    }
   ],
   "source": [
    "kmeans_clf = KMeans(n_clusters=2)\n",
    "kmeans_clf.fit(X_blob)"
   ]
  },
  {
   "cell_type": "code",
   "execution_count": 58,
   "metadata": {},
   "outputs": [
    {
     "name": "stdout",
     "output_type": "stream",
     "text": [
      "Data point belongs to cluster 0\n"
     ]
    }
   ],
   "source": [
    "y_pred = kmeans_clf.predict([-4, 0])\n",
    "print(f'Data point belongs to cluster {y_pred}')"
   ]
  },
  {
   "cell_type": "code",
   "execution_count": 60,
   "metadata": {},
   "outputs": [
    {
     "data": {
      "image/png": "[encoded data removed]",
      "text/plain": [
       "<Figure size 432x288 with 1 Axes>"
      ]
     },
     "metadata": {
      "needs_background": "light"
     },
     "output_type": "display_data"
    }
   ],
   "source": [
    "kmeans_clf.plot_graph()"
   ]
  },
  {
   "cell_type": "markdown",
   "metadata": {},
   "source": [
    "Check the optimal number of cluster for the data set by plotting the 'Elbow' graph"
   ]
  },
  {
   "cell_type": "code",
   "execution_count": null,
   "metadata": {},
   "outputs": [],
   "source": [
    "inertias = []\n",
    "for k in range(1, 6):\n",
    "    model = KMeans(n_clusters=k)\n",
    "    model.fit(X_blob)\n",
    "    model_inertia = model.inertia()\n",
    "    inertias.append(model_inertia)"
   ]
  },
  {
   "cell_type": "code",
   "execution_count": 70,
   "metadata": {},
   "outputs": [
    {
     "data": {
      "image/png": "[encoded data removed]",
      "text/plain": [
       "<Figure size 432x288 with 1 Axes>"
      ]
     },
     "metadata": {
      "needs_background": "light"
     },
     "output_type": "display_data"
    }
   ],
   "source": [
    "plt.plot(range(1, 6), inertias, \"bo-\")\n",
    "plt.xlabel(\"k\", fontsize=14)\n",
    "plt.ylabel(\"Inertia\", fontsize=14)\n",
    "plt.annotate('Elbow',\n",
    "             xy=(2, inertias[1]),\n",
    "             xytext=(0.4, 0.5),\n",
    "             textcoords='figure fraction',\n",
    "             fontsize=16,\n",
    "             arrowprops=dict(facecolor='black', shrink=0.1)\n",
    "            )\n",
    "plt.show()"
   ]
  }
 ],
 "metadata": {
  "kernelspec": {
   "display_name": "Python 3",
   "language": "python",
   "name": "python3"
  },
  "language_info": {
   "codemirror_mode": {
    "name": "ipython",
    "version": 3
   },
   "file_extension": ".py",
   "mimetype": "text/x-python",
   "name": "python",
   "nbconvert_exporter": "python",
   "pygments_lexer": "ipython3",
   "version": "3.7.6"
  }
 },
 "nbformat": 4,
 "nbformat_minor": 4
}
